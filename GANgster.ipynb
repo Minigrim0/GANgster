{
 "cells": [
  {
   "cell_type": "markdown",
   "id": "accessible-moses",
   "metadata": {},
   "source": [
    "# GANgster\n",
    "In this notebook we will try to generate mugshots with our generator"
   ]
  }
 ],
 "metadata": {
  "kernelspec": {
   "display_name": "ve",
   "language": "python",
   "name": "ve"
  },
  "language_info": {
   "codemirror_mode": {
    "name": "ipython",
    "version": 3
   },
   "file_extension": ".py",
   "mimetype": "text/x-python",
   "name": "python",
   "nbconvert_exporter": "python",
   "pygments_lexer": "ipython3",
   "version": "3.9.3"
  }
 },
 "nbformat": 4,
 "nbformat_minor": 5
}
